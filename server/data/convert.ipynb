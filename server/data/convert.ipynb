version https://git-lfs.github.com/spec/v1
oid sha256:21e46994f4ba570422cfedb091bffaa44b271807fbbf62f4a76d9563cafdc55e
size 14849
